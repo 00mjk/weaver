{
 "cells": [
  {
   "cell_type": "code",
   "execution_count": 57,
   "metadata": {
    "collapsed": true
   },
   "outputs": [],
   "source": [
    "import xmlrpclib\n",
    "import ssl"
   ]
  },
  {
   "cell_type": "code",
   "execution_count": 58,
   "metadata": {
    "collapsed": true
   },
   "outputs": [],
   "source": [
    "context = ssl._create_default_https_context()\n",
    "context.check_hostname = False\n",
    "context.verify_mode = ssl.CERT_NONE"
   ]
  },
  {
   "cell_type": "code",
   "execution_count": 101,
   "metadata": {
    "collapsed": true
   },
   "outputs": [],
   "source": [
    "url = \"https://localhost:5000\"\n",
    "url = \"https://localhost:8443\""
   ]
  },
  {
   "cell_type": "code",
   "execution_count": 102,
   "metadata": {
    "collapsed": false
   },
   "outputs": [],
   "source": [
    "twitcher_service = xmlrpclib.ServerProxy(url, context=context)"
   ]
  },
  {
   "cell_type": "code",
   "execution_count": 107,
   "metadata": {
    "collapsed": false
   },
   "outputs": [
    {
     "data": {
      "text/plain": [
       "[{'c4i': False,\n",
       "  'name': 'hummingbird',\n",
       "  'proxy_url': 'https://localhost:8443/ows/proxy/hummingbird',\n",
       "  'public': False,\n",
       "  'type': 'wps',\n",
       "  'url': 'http://localhost:8092/wps'},\n",
       " {'c4i': True,\n",
       "  'name': 'knmi',\n",
       "  'proxy_url': 'https://localhost:8443/ows/proxy/knmi',\n",
       "  'public': False,\n",
       "  'type': 'wps',\n",
       "  'url': 'https://climate4impact.eu/impactportal/wps'},\n",
       " {'c4i': False,\n",
       "  'name': 'malleefowl',\n",
       "  'proxy_url': 'https://localhost:8443/ows/proxy/malleefowl',\n",
       "  'public': False,\n",
       "  'type': 'wps',\n",
       "  'url': 'http://localhost:8091/wps'},\n",
       " {'c4i': False,\n",
       "  'name': 'wms',\n",
       "  'proxy_url': 'https://localhost:8443/ows/proxy/wms',\n",
       "  'public': True,\n",
       "  'type': 'wms',\n",
       "  'url': 'http://localhost:8080/ncWMS2/wms'}]"
      ]
     },
     "execution_count": 107,
     "metadata": {},
     "output_type": "execute_result"
    }
   ],
   "source": [
    "twitcher_service.status()"
   ]
  },
  {
   "cell_type": "code",
   "execution_count": 100,
   "metadata": {
    "collapsed": false
   },
   "outputs": [
    {
     "data": {
      "text/plain": [
       "{'access_token': '16975c469c6c4186b450f13fda7432f1', 'expires_at': 1482169099}"
      ]
     },
     "execution_count": 100,
     "metadata": {},
     "output_type": "execute_result"
    }
   ],
   "source": [
    "twitcher_service.gentoken(1, {})"
   ]
  },
  {
   "cell_type": "code",
   "execution_count": 84,
   "metadata": {
    "collapsed": false
   },
   "outputs": [
    {
     "data": {
      "text/plain": [
       "'emu'"
      ]
     },
     "execution_count": 84,
     "metadata": {},
     "output_type": "execute_result"
    }
   ],
   "source": [
    "twitcher_service.register(\"http://localhost:8094/wps\", \"emu\", \"wps\", True)"
   ]
  },
  {
   "cell_type": "code",
   "execution_count": 85,
   "metadata": {
    "collapsed": false
   },
   "outputs": [
    {
     "data": {
      "text/plain": [
       "[{'c4i': False,\n",
       "  'name': 'emu',\n",
       "  'proxy_url': 'https://localhost:5000/ows/proxy/emu',\n",
       "  'public': True,\n",
       "  'type': 'wps',\n",
       "  'url': 'http://localhost:8094/wps'}]"
      ]
     },
     "execution_count": 85,
     "metadata": {},
     "output_type": "execute_result"
    }
   ],
   "source": [
    "twitcher_service.status()"
   ]
  },
  {
   "cell_type": "code",
   "execution_count": 105,
   "metadata": {
    "collapsed": false
   },
   "outputs": [
    {
     "data": {
      "text/plain": [
       "True"
      ]
     },
     "execution_count": 105,
     "metadata": {},
     "output_type": "execute_result"
    }
   ],
   "source": [
    "twitcher_service.unregister('wps')"
   ]
  },
  {
   "cell_type": "code",
   "execution_count": 87,
   "metadata": {
    "collapsed": false
   },
   "outputs": [
    {
     "data": {
      "text/plain": [
       "[]"
      ]
     },
     "execution_count": 87,
     "metadata": {},
     "output_type": "execute_result"
    }
   ],
   "source": [
    "twitcher_service.status()"
   ]
  },
  {
   "cell_type": "code",
   "execution_count": null,
   "metadata": {
    "collapsed": true
   },
   "outputs": [],
   "source": []
  }
 ],
 "metadata": {
  "kernelspec": {
   "display_name": "Python 2",
   "language": "python",
   "name": "python2"
  },
  "language_info": {
   "codemirror_mode": {
    "name": "ipython",
    "version": 2
   },
   "file_extension": ".py",
   "mimetype": "text/x-python",
   "name": "python",
   "nbconvert_exporter": "python",
   "pygments_lexer": "ipython2",
   "version": "2.7.12"
  }
 },
 "nbformat": 4,
 "nbformat_minor": 2
}
