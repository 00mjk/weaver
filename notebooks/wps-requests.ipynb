{
 "cells": [
  {
   "cell_type": "code",
   "execution_count": 1,
   "metadata": {
    "collapsed": true
   },
   "outputs": [],
   "source": [
    "import requests\n"
   ]
  },
  {
   "cell_type": "code",
   "execution_count": 62,
   "metadata": {
    "collapsed": true
   },
   "outputs": [],
   "source": [
    "token = \"0a161a3f3b7b431fbceaa92d5f0bf44a\""
   ]
  },
  {
   "cell_type": "code",
   "execution_count": 63,
   "metadata": {
    "collapsed": true
   },
   "outputs": [],
   "source": [
    "opendap_url = \"http://www.esrl.noaa.gov/psd/thredds/dodsC/Datasets/ncep.reanalysis2.dailyavgs/surface/mslp.2006.nc\"\n",
    "#opendap_url = \"http://esg-dn1.nsc.liu.se/thredds/dodsC/esg_dataroot1/cordexdata/cordex/output/EUR-44/SMHI/CCCma-CanESM2/historical/r1i1p1/SMHI-RCA4/v1/mon/tasmax/v20130927/tasmax_EUR-44_CCCma-CanESM2_historical_r1i1p1_SMHI-RCA4_v1_mon_199101-200012.nc\"\n",
    "#opendap_url = \"http://esg-dn1.nsc.liu.se/thredds/dodsC/esg_dataroot2/cmip5data/cmip5/output1/SMHI/EC-EARTH/decadal1970/mon/atmos/Amon/r1i3p1/v20140318/tasmax/tasmax_Amon_EC-EARTH_decadal1970_r1i3p1_197101-198012.nc\""
   ]
  },
  {
   "cell_type": "code",
   "execution_count": 64,
   "metadata": {
    "collapsed": true
   },
   "outputs": [],
   "source": [
    "req_url = \"https://localhost:5000/ows/wps?version=1.0.0&service=wps&request=describeprocess&identifier=ncdump\""
   ]
  },
  {
   "cell_type": "code",
   "execution_count": 65,
   "metadata": {
    "collapsed": false
   },
   "outputs": [
    {
     "name": "stderr",
     "output_type": "stream",
     "text": [
      "/home/pingu/.conda/envs/twitcher/lib/python2.7/site-packages/requests/packages/urllib3/connectionpool.py:843: InsecureRequestWarning: Unverified HTTPS request is being made. Adding certificate verification is strongly advised. See: https://urllib3.readthedocs.io/en/latest/advanced-usage.html#ssl-warnings\n",
      "  InsecureRequestWarning)\n"
     ]
    }
   ],
   "source": [
    "response = requests.get(req_url, verify=False)"
   ]
  },
  {
   "cell_type": "code",
   "execution_count": 66,
   "metadata": {
    "collapsed": false,
    "scrolled": true
   },
   "outputs": [
    {
     "data": {
      "text/plain": [
       "u'<!-- PyWPS 4.0.0 -->\\n<wps:ProcessDescriptions xmlns:gml=\"http://www.opengis.net/gml\" xmlns:ows=\"http://www.opengis.net/ows/1.1\" xmlns:wps=\"http://www.opengis.net/wps/1.0.0\" xmlns:xlink=\"http://www.w3.org/1999/xlink\" xmlns:xsi=\"http://www.w3.org/2001/XMLSchema-instance\" xsi:schemaLocation=\"http://www.opengis.net/wps/1.0.0 http://schemas.opengis.net/wps/1.0.0/wpsDescribeProcess_response.xsd\" service=\"WPS\" version=\"1.0.0\" xml:lang=\"en-US\">\\n  <ProcessDescription wps:processVersion=\"4.4.1\" storeSupported=\"true\" statusSupported=\"true\">\\n    <ows:Identifier>ncdump</ows:Identifier>\\n    <ows:Title>NCDump</ows:Title>\\n    <ows:Abstract>Run ncdump to retrieve netcdf header metadata.</ows:Abstract>\\n    <ows:Metadata xlink:href=\"http://bird-house.github.io/\" xlink:title=\"Birdhouse\" xlink:type=\"simple\"/>\\n    <DataInputs>\\n      <Input minOccurs=\"0\" maxOccurs=\"100\">\\n        <ows:Identifier>dataset</ows:Identifier>\\n        <ows:Title>NetCDF File</ows:Title>\\n        <ows:Abstract>Enter a URL pointing to a NetCDF file (optional)</ows:Abstract>\\n        <ows:Metadata xlink:title=\"Info\" xlink:type=\"simple\"/>\\n        <ComplexData>\\n          <Default>\\n            <Format>\\n              <MimeType>application/x-netcdf</MimeType>\\n            </Format>\\n          </Default>\\n          <Supported>\\n            <Format>\\n              <MimeType>application/x-netcdf</MimeType>\\n            </Format>\\n          </Supported>\\n        </ComplexData>\\n      </Input>\\n      <Input minOccurs=\"0\" maxOccurs=\"100\">\\n        <ows:Identifier>dataset_opendap</ows:Identifier>\\n        <ows:Title>Remote OpenDAP Data URL</ows:Title>\\n        <ows:Abstract>Or provide a remote OpenDAP data URL,                          for example: http://my.opendap/thredds/dodsC/path/to/file.nc</ows:Abstract>\\n        <LiteralData>\\n          <ows:DataType ows:reference=\"urn:ogc:def:dataType:OGC:1.1:string\">string</ows:DataType>\\n          <ows:AnyValue/>\\n        </LiteralData>\\n      </Input>\\n    </DataInputs>\\n    <ProcessOutputs>\\n      <Output>\\n        <ows:Identifier>output</ows:Identifier>\\n        <ows:Title>NetCDF Metadata</ows:Title>\\n        <ows:Abstract>NetCDF Metadata</ows:Abstract>\\n        <ComplexOutput>\\n          <Default>\\n            <Format>\\n              <MimeType>text/plain</MimeType>\\n            </Format>\\n          </Default>\\n          <Supported>\\n            <Format>\\n              <MimeType>text/plain</MimeType>\\n            </Format>\\n          </Supported>\\n        </ComplexOutput>\\n      </Output>\\n    </ProcessOutputs>\\n  </ProcessDescription>\\n</wps:ProcessDescriptions>\\n'"
      ]
     },
     "execution_count": 66,
     "metadata": {},
     "output_type": "execute_result"
    }
   ],
   "source": [
    "response.text"
   ]
  },
  {
   "cell_type": "code",
   "execution_count": 67,
   "metadata": {
    "collapsed": true
   },
   "outputs": [],
   "source": [
    "req_url = \"https://localhost:5000/ows/wps?version=1.0.0&service=wps&request=execute&identifier=ncdump\""
   ]
  },
  {
   "cell_type": "code",
   "execution_count": 73,
   "metadata": {
    "collapsed": false
   },
   "outputs": [
    {
     "name": "stderr",
     "output_type": "stream",
     "text": [
      "/home/pingu/.conda/envs/twitcher/lib/python2.7/site-packages/requests/packages/urllib3/connectionpool.py:843: InsecureRequestWarning: Unverified HTTPS request is being made. Adding certificate verification is strongly advised. See: https://urllib3.readthedocs.io/en/latest/advanced-usage.html#ssl-warnings\n",
      "  InsecureRequestWarning)\n"
     ]
    }
   ],
   "source": [
    "response = requests.get(req_url+\"&access_token=\"+token+\"&datainputs=dataset_opendap=\"+opendap_url, verify=False)"
   ]
  },
  {
   "cell_type": "code",
   "execution_count": 74,
   "metadata": {
    "collapsed": false
   },
   "outputs": [
    {
     "data": {
      "text/plain": [
       "u'<!-- PyWPS 4.0.0 -->\\n<wps:ExecuteResponse xmlns:gml=\"http://www.opengis.net/gml\" xmlns:ows=\"http://www.opengis.net/ows/1.1\" xmlns:wps=\"http://www.opengis.net/wps/1.0.0\" xmlns:xlink=\"http://www.w3.org/1999/xlink\" xmlns:xsi=\"http://www.w3.org/2001/XMLSchema-instance\" xsi:schemaLocation=\"http://www.opengis.net/wps/1.0.0 http://schemas.opengis.net/wps/1.0.0/wpsExecute_response.xsd\" service=\"WPS\" version=\"1.0.0\" xml:lang=\"en-US\" serviceInstance=\"https://localhost:5000/ows/wps?service=WPS&amp;request=GetCapabilities\" statusLocation=\"file:///tmp/fbba2168-c6c5-11e6-a148-68f72837e1b4.xml\">\\n  <wps:Process wps:processVersion=\"4.4.1\">\\n    <ows:Identifier>ncdump</ows:Identifier>\\n    <ows:Title>NCDump</ows:Title>\\n    <ows:Abstract>Run ncdump to retrieve netcdf header metadata.</ows:Abstract>\\n  </wps:Process>\\n  <wps:Status creationTime=\"2016-12-20T16:07:13Z\">\\n    <wps:ProcessSucceeded>PyWPS Process NCDump finished</wps:ProcessSucceeded>\\n  </wps:Status>\\n  <wps:ProcessOutputs>\\n    <wps:Output>\\n      <ows:Identifier>output</ows:Identifier>\\n      <ows:Title>NetCDF Metadata</ows:Title>\\n      <ows:Abstract>NetCDF Metadata</ows:Abstract>\\n      <wps:Reference xlink:href=\"file:///tmp/nc_dumpFA7Hgg.txt\" mimeType=\"text/plain\"/>\\n    </wps:Output>\\n  </wps:ProcessOutputs>\\n</wps:ExecuteResponse>\\n'"
      ]
     },
     "execution_count": 74,
     "metadata": {},
     "output_type": "execute_result"
    }
   ],
   "source": [
    "response.text"
   ]
  },
  {
   "cell_type": "code",
   "execution_count": 38,
   "metadata": {
    "collapsed": true
   },
   "outputs": [],
   "source": [
    "from netCDF4 import Dataset"
   ]
  },
  {
   "cell_type": "code",
   "execution_count": 40,
   "metadata": {
    "collapsed": false
   },
   "outputs": [],
   "source": [
    "import os\n",
    "os.environ['HOME'] = '/tmp/twitcher_k6KaiF'"
   ]
  },
  {
   "cell_type": "code",
   "execution_count": 41,
   "metadata": {
    "collapsed": true
   },
   "outputs": [],
   "source": [
    "ds = Dataset(opendap_url)"
   ]
  },
  {
   "cell_type": "code",
   "execution_count": null,
   "metadata": {
    "collapsed": true
   },
   "outputs": [],
   "source": []
  }
 ],
 "metadata": {
  "kernelspec": {
   "display_name": "Python 2",
   "language": "python",
   "name": "python2"
  },
  "language_info": {
   "codemirror_mode": {
    "name": "ipython",
    "version": 2
   },
   "file_extension": ".py",
   "mimetype": "text/x-python",
   "name": "python",
   "nbconvert_exporter": "python",
   "pygments_lexer": "ipython2",
   "version": "2.7.12"
  }
 },
 "nbformat": 4,
 "nbformat_minor": 2
}
