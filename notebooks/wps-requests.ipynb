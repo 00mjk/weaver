{
 "cells": [
  {
   "cell_type": "code",
   "execution_count": 50,
   "metadata": {
    "collapsed": true
   },
   "outputs": [],
   "source": [
    "import requests\n"
   ]
  },
  {
   "cell_type": "code",
   "execution_count": 51,
   "metadata": {
    "collapsed": true
   },
   "outputs": [],
   "source": [
    "token = \"0167d827fab147a58e44dcaf7adbe141\""
   ]
  },
  {
   "cell_type": "code",
   "execution_count": 56,
   "metadata": {
    "collapsed": true
   },
   "outputs": [],
   "source": [
    "#opendap_url = \"http://www.esrl.noaa.gov/psd/thredds/dodsC/Datasets/ncep.reanalysis2.dailyavgs/surface/mslp.2006.nc\"\n",
    "#opendap_url = \"http://esg-dn1.nsc.liu.se/thredds/dodsC/esg_dataroot1/cordexdata/cordex/output/EUR-44/SMHI/CCCma-CanESM2/historical/r1i1p1/SMHI-RCA4/v1/mon/tasmax/v20130927/tasmax_EUR-44_CCCma-CanESM2_historical_r1i1p1_SMHI-RCA4_v1_mon_199101-200012.nc\"\n",
    "opendap_url = \"http://esg-dn1.nsc.liu.se/thredds/dodsC/esg_dataroot2/cmip5data/cmip5/output1/SMHI/EC-EARTH/decadal1970/mon/atmos/Amon/r1i3p1/v20140318/tasmax/tasmax_Amon_EC-EARTH_decadal1970_r1i3p1_197101-198012.nc\""
   ]
  },
  {
   "cell_type": "code",
   "execution_count": 57,
   "metadata": {
    "collapsed": true
   },
   "outputs": [],
   "source": [
    "req_url = \"https://localhost:5000/ows/wps?version=1.0.0&service=wps&request=execute&identifier=ncdump\""
   ]
  },
  {
   "cell_type": "code",
   "execution_count": 58,
   "metadata": {
    "collapsed": false
   },
   "outputs": [
    {
     "name": "stderr",
     "output_type": "stream",
     "text": [
      "/home/pingu/.conda/envs/twitcher/lib/python2.7/site-packages/requests/packages/urllib3/connectionpool.py:843: InsecureRequestWarning: Unverified HTTPS request is being made. Adding certificate verification is strongly advised. See: https://urllib3.readthedocs.io/en/latest/advanced-usage.html#ssl-warnings\n",
      "  InsecureRequestWarning)\n"
     ]
    }
   ],
   "source": [
    "response = requests.get(req_url+\"&access_token=\"+token+\"&datainputs=dataset_opendap=\"+opendap_url, verify=False)"
   ]
  },
  {
   "cell_type": "code",
   "execution_count": 59,
   "metadata": {
    "collapsed": false
   },
   "outputs": [
    {
     "data": {
      "text/plain": [
       "u'<!-- PyWPS 4.0.0 -->\\n<wps:ExecuteResponse xmlns:gml=\"http://www.opengis.net/gml\" xmlns:ows=\"http://www.opengis.net/ows/1.1\" xmlns:wps=\"http://www.opengis.net/wps/1.0.0\" xmlns:xlink=\"http://www.w3.org/1999/xlink\" xmlns:xsi=\"http://www.w3.org/2001/XMLSchema-instance\" xsi:schemaLocation=\"http://www.opengis.net/wps/1.0.0 http://schemas.opengis.net/wps/1.0.0/wpsExecute_response.xsd\" service=\"WPS\" version=\"1.0.0\" xml:lang=\"en-US\" serviceInstance=\"https://localhost:5000/ows/wps?service=WPS&amp;request=GetCapabilities\" statusLocation=\"file:////tmp/d84b8a3e-c5d3-11e6-a89c-68f72837e1b4.xml\">\\n  <wps:Process wps:processVersion=\"4.4.1\">\\n    <ows:Identifier>ncdump</ows:Identifier>\\n    <ows:Title>NCDump</ows:Title>\\n    <ows:Abstract>Run ncdump to retrieve netcdf header metadata.</ows:Abstract>\\n  </wps:Process>\\n  <wps:Status creationTime=\"2016-12-19T11:13:55Z\">\\n    <wps:ProcessSucceeded>PyWPS Process NCDump finished</wps:ProcessSucceeded>\\n  </wps:Status>\\n  <wps:ProcessOutputs>\\n    <wps:Output>\\n      <ows:Identifier>output</ows:Identifier>\\n      <ows:Title>NetCDF Metadata</ows:Title>\\n      <ows:Abstract>NetCDF Metadata</ows:Abstract>\\n      <wps:Reference xlink:href=\"file://nc_dumpLiU6_B.txt\" mimeType=\"text/plain\"/>\\n    </wps:Output>\\n  </wps:ProcessOutputs>\\n</wps:ExecuteResponse>\\n'"
      ]
     },
     "execution_count": 59,
     "metadata": {},
     "output_type": "execute_result"
    }
   ],
   "source": [
    "response.text"
   ]
  },
  {
   "cell_type": "code",
   "execution_count": 38,
   "metadata": {
    "collapsed": true
   },
   "outputs": [],
   "source": [
    "from netCDF4 import Dataset"
   ]
  },
  {
   "cell_type": "code",
   "execution_count": 40,
   "metadata": {
    "collapsed": false
   },
   "outputs": [],
   "source": [
    "import os\n",
    "os.environ['HOME'] = '/tmp/twitcher_k6KaiF'"
   ]
  },
  {
   "cell_type": "code",
   "execution_count": 41,
   "metadata": {
    "collapsed": true
   },
   "outputs": [],
   "source": [
    "ds = Dataset(opendap_url)"
   ]
  },
  {
   "cell_type": "code",
   "execution_count": null,
   "metadata": {
    "collapsed": true
   },
   "outputs": [],
   "source": []
  }
 ],
 "metadata": {
  "kernelspec": {
   "display_name": "Python 2",
   "language": "python",
   "name": "python2"
  },
  "language_info": {
   "codemirror_mode": {
    "name": "ipython",
    "version": 2
   },
   "file_extension": ".py",
   "mimetype": "text/x-python",
   "name": "python",
   "nbconvert_exporter": "python",
   "pygments_lexer": "ipython2",
   "version": "2.7.12"
  }
 },
 "nbformat": 4,
 "nbformat_minor": 2
}
